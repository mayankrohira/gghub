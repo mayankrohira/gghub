{
 "cells": [
  {
   "cell_type": "code",
   "execution_count": null,
   "metadata": {},
   "outputs": [],
   "source": [
    "import pandas as pd\n",
    "\n",
    "# Sample Data\n",
    "data = {\n",
    "    'Customer_ID': [1, 2, 3, 4, 5, 6, 7, 8, 9, 10],\n",
    "    'Full_Name': ['John Doe', 'Jane Smith', 'Alice Brown', 'Bob Johnson', 'Carol Lee', \n",
    "                  'David Clark', 'Eva White', 'Frank Green', 'Grace Adams', 'Hannah Scott'],\n",
    "    'Date_of_Birth': ['1990-01-15', '1985-07-22', '1987-03-10', '1980-11-30', '1992-06-17', \n",
    "                      '1995-05-25', '1989-12-05', '1983-09-16', '1991-08-14', '1984-04-29'],\n",
    "    'SSN/ID': ['123-45-6789', '987-65-4321', '111-22-3333', '555-66-7777', '444-55-6666',\n",
    "               '888-99-0000', '222-33-4444', '999-88-7777', '333-44-5555', '666-77-8888'],\n",
    "    'Current_Address': ['123 Elm St', '456 Oak Ave', '789 Pine Rd', '101 Maple St', '202 Birch Ln',\n",
    "                        '303 Cedar Blvd', '404 Willow Dr', '505 Redwood St', '606 Sequoia Ct', '707 Fir Pl'],\n",
    "    'Employment_Status': ['Employed', 'Employed', 'Self-Employed', 'Employed', 'Employed',\n",
    "                          'Self-Employed', 'Employed', 'Employed', 'Self-Employed', 'Employed'],\n",
    "    'Annual_Income': [55000, 75000, 120000, 48000, 65000, 95000, 58000, 72000, 110000, 60000],\n",
    "    'Credit_Score': [720, 650, 700, 580, 750, 650, 680, 710, 760, 690],\n",
    "    'Credit_Utilization': [0.30, 0.45, 0.25, 0.60, 0.10, 0.50, 0.35, 0.40, 0.20, 0.55],\n",
    "    'Current_Balance_Over_Credit_Limit': [1500, 3000, 2000, 5000, 1000, 4000, 2200, 1800, 800, 3500],\n",
    "    'Number_of_Credit_Accounts': [4, 5, 3, 7, 6, 4, 5, 4, 6, 5],\n",
    "    'Recent_Hard_Inquiries': [2, 1, 3, 5, 0, 2, 1, 3, 4, 2],\n",
    "    'Past_Due_Accounts': [0, 1, 0, 3, 0, 0, 0, 1, 0, 2],\n",
    "    'Delinquent_Accounts': [0, 1, 0, 2, 0, 1, 0, 1, 0, 1],\n",
    "    'Account_Chargeoffs': [0, 0, 0, 1, 0, 0, 0, 0, 0, 1],\n",
    "    'Bankruptcies': [0, 1, 0, 0, 0, 0, 0, 1, 0, 0],\n",
    "    'Foreclosures': [0, 0, 0, 0, 0, 0, 0, 1, 0, 0],\n",
    "    'Length_of_Credit_History': [6, 5, 8, 3, 10, 7, 4, 12, 6, 9],\n",
    "    'Open_Mortgages': [1, 0, 1, 1, 0, 1, 0, 1, 0, 1],\n",
    "    'Open_Auto_Loans': [0, 1, 0, 1, 1, 0, 0, 1, 0, 0],\n",
    "    'Open_Personal_Loans': [1, 0, 1, 0, 1, 1, 1, 0, 1, 0],\n",
    "    'Credit_Cards_Open': [2, 3, 1, 3, 2, 2, 2, 2, 3, 2],\n",
    "    'Recent_Loan_Approvals': [1, 1, 0, 0, 1, 1, 0, 1, 1, 0],\n",
    "    'Total_Outstanding_Debt': [20000, 35000, 18000, 45000, 15000, 32000, 22000, 25000, 16000, 38000],\n",
    "    'Total_Assets': [100000, 150000, 120000, 200000, 95000, 180000, 110000, 160000, 125000, 140000],\n",
    "    'Debt_to_Income_Ratio': [0.36, 0.47, 0.15, 0.94, 0.23, 0.34, 0.38, 0.35, 0.15, 0.63]\n",
    "}\n",
    "\n",
    "# Create DataFrame\n",
    "df = pd.DataFrame(data)\n",
    "\n",
    "# Display sample DataFrame\n",
    "df.head(10)\n"
   ]
  },
  {
   "cell_type": "code",
   "execution_count": null,
   "metadata": {},
   "outputs": [],
   "source": []
  }
 ],
 "metadata": {
  "language_info": {
   "name": "python"
  }
 },
 "nbformat": 4,
 "nbformat_minor": 2
}
